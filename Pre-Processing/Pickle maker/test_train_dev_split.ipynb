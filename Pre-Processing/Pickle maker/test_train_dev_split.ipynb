{
 "cells": [
  {
   "cell_type": "code",
   "execution_count": null,
   "metadata": {},
   "outputs": [],
   "source": [
    "import pandas as pd\n",
    "import numpy as np\n",
    "import random\n",
    "import os"
   ]
  },
  {
   "cell_type": "markdown",
   "metadata": {},
   "source": [
    "# **Test Train Dev Split**"
   ]
  },
  {
   "cell_type": "code",
   "execution_count": null,
   "metadata": {},
   "outputs": [],
   "source": [
    "# Load your data from an Excel file\n",
    "input_file = os.path.join(os.path.dirname(os.path.abspath(__file__)),'Dataset\\\\excels\\\\filtered_file.xlsx')  # Replace with your input file name\n",
    "df = pd.read_excel(input_file)\n",
    "\n",
    "# Function to split data based on unique entries\n",
    "def split_data(df):\n",
    "    unique_prefixes = df['ID'].apply(lambda x: x.split('_')[0]).unique()\n",
    "    random.shuffle(unique_prefixes)\n",
    "    \n",
    "    dev_set = []\n",
    "    test_set = []\n",
    "    train_set = []\n",
    "    \n",
    "    for prefix in unique_prefixes:\n",
    "        if not any(prefix in item for item in dev_set):\n",
    "            dev_set.extend(df[df['ID'].str.startswith(prefix)].values.tolist())\n",
    "        elif not any(prefix in item for item in test_set):\n",
    "            test_set.extend(df[df['ID'].str.startswith(prefix)].values.tolist())\n",
    "        else:\n",
    "            train_set.extend(df[df['ID'].str.startswith(prefix)].values.tolist())\n",
    "    \n",
    "    return pd.DataFrame(dev_set, columns=df.columns), pd.DataFrame(test_set, columns=df.columns), pd.DataFrame(train_set, columns=df.columns)\n",
    "\n",
    "# Split the data\n",
    "dev_df, test_df, train_df = split_data(df)\n",
    "\n",
    "# Save to Excel files\n",
    "dev_df.to_excel(os.path.join(os.path.dirname(os.path.abspath(__file__)),'Dataset\\\\excels\\\\dev.xlsx'), index=False)\n",
    "test_df.to_excel(os.path.join(os.path.dirname(os.path.abspath(__file__)),'Dataset\\\\excels\\\\test.xlsx'), index=False)\n",
    "train_df.to_excel(os.path.join(os.path.dirname(os.path.abspath(__file__)),'Dataset\\\\excels\\\\train.xlsx'), index=False)\n",
    "\n",
    "print(\"Files have been created successfully.\")"
   ]
  },
  {
   "cell_type": "code",
   "execution_count": null,
   "metadata": {},
   "outputs": [],
   "source": [
    "file_path = os.path.join(os.path.dirname(os.path.abspath(__file__)), 'Dataset\\\\excels\\\\train.xlsx')  # Replace with your file path\n",
    "df = pd.read_excel(file_path)\n",
    "\n",
    "# Shuffle the rows of the DataFrame\n",
    "shuffled_df = df.sample(frac=1).reset_index(drop=True)\n",
    "\n",
    "# Split the DataFrame into 20 roughly equal parts\n",
    "num_files = 20\n",
    "split_dfs = np.array_split(shuffled_df, num_files)\n",
    "\n",
    "# Get the directory of the input file\n",
    "output_dir = os.path.dirname(file_path)\n",
    "\n",
    "# Save each part into a separate Excel file in the same directory as the input file\n",
    "for i, split_df in enumerate(split_dfs):\n",
    "    output_path = os.path.join(output_dir, f'split_file_{i+1}.xlsx')\n",
    "    split_df.to_excel(output_path, index=False)"
   ]
  }
 ],
 "metadata": {
  "language_info": {
   "name": "python"
  }
 },
 "nbformat": 4,
 "nbformat_minor": 2
}
